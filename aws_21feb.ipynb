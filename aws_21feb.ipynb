{
 "cells": [
  {
   "cell_type": "code",
   "execution_count": null,
   "id": "ce0842c3-ff9f-4471-a882-82d30fafd7e3",
   "metadata": {},
   "outputs": [],
   "source": [
    "#Q1. What is Web Scraping? Why is it Used? Give three areas where Web Scraping is used to get data."
   ]
  },
  {
   "cell_type": "code",
   "execution_count": 2,
   "id": "857fc15f-c1b9-46cc-9a8f-26e92b13b1ff",
   "metadata": {},
   "outputs": [
    {
     "data": {
      "text/plain": [
       "'Web scraping is a term used to describe the use of a program or algorithm to extract and process large amounts of data from the web.'"
      ]
     },
     "execution_count": 2,
     "metadata": {},
     "output_type": "execute_result"
    }
   ],
   "source": [
    "\"\"\"Web scraping is a term used to describe the use of a program or algorithm to extract and process large amounts of data from the web.\"\"\""
   ]
  },
  {
   "cell_type": "code",
   "execution_count": null,
   "id": "6200b937-dc2c-4f25-a3a6-2b0bbb9fbe21",
   "metadata": {},
   "outputs": [],
   "source": [
    "#why is it use?\n",
    "#Ans:- web scraping is used for data harvesting\n",
    "# Give three areas where Web Scraping is used to get data.?\n",
    "# web scraping is used to extract data from e-commerce website like amazon,flipkart, and other shopping apps.\n",
    "#Price comparison sites deploying bots to auto-fetch prices and product descriptions for allied seller websites."
   ]
  },
  {
   "cell_type": "code",
   "execution_count": null,
   "id": "eb2dd030-2e26-4ff7-9fc3-13eaa8bd632b",
   "metadata": {},
   "outputs": [],
   "source": []
  },
  {
   "cell_type": "code",
   "execution_count": null,
   "id": "a335349f-94b1-4ae6-a973-94ad5ffe57c9",
   "metadata": {},
   "outputs": [],
   "source": [
    "#Q2. What are the different methods used for Web Scraping?"
   ]
  },
  {
   "cell_type": "code",
   "execution_count": null,
   "id": "ad1e0df8-5e44-4d1a-b960-5f75e5ccb430",
   "metadata": {},
   "outputs": [],
   "source": [
    "#HTML Parsing. HTML parsing involves the use of JavaScript to target a linear or nested HTML page. ...\n",
    "#DOM Parsing. ...\n",
    "#Vertical Aggregation. ...\n",
    "#XPath. ...\n",
    "#Google Sheets. ...\n",
    "#Rate Limit User Requests. ...\n",
    "#Mitigate High-Volume Requesters with CAPTCHAs. ...\n",
    "#Regularly Modify HTML Markup"
   ]
  },
  {
   "cell_type": "code",
   "execution_count": null,
   "id": "3bba97f1-ecbc-4309-bb4c-c1bb7e049f04",
   "metadata": {},
   "outputs": [],
   "source": []
  },
  {
   "cell_type": "code",
   "execution_count": null,
   "id": "537ce7a0-0d20-45d9-b196-0117e31911c1",
   "metadata": {},
   "outputs": [],
   "source": [
    "#Q3. What is Beautiful Soup? Why is it used?"
   ]
  },
  {
   "cell_type": "code",
   "execution_count": 3,
   "id": "59f772c2-34d1-42ff-8a8a-d5caa81a0989",
   "metadata": {},
   "outputs": [
    {
     "data": {
      "text/plain": [
       "\"beautiful Soup provides simple methods for navigating, searching, and modifying a parse tree in HTML, XML files. It transforms a complex HTML document into a tree of Python objects. It also automatically converts the document to Unicode, so you don't have to think about encodings.\""
      ]
     },
     "execution_count": 3,
     "metadata": {},
     "output_type": "execute_result"
    }
   ],
   "source": [
    "\"\"\"beautiful Soup provides simple methods for navigating, searching, and modifying a parse tree in HTML, XML files. It transforms a complex HTML document into a tree of Python objects. It also automatically converts the document to Unicode, so you don't have to think about encodings.\"\"\""
   ]
  },
  {
   "cell_type": "code",
   "execution_count": null,
   "id": "40551c91-adbd-4765-920d-15a00fa52440",
   "metadata": {},
   "outputs": [],
   "source": []
  },
  {
   "cell_type": "code",
   "execution_count": null,
   "id": "c553612d-9d87-4f1f-af83-b9ef8e3713ad",
   "metadata": {},
   "outputs": [],
   "source": [
    "#Q4. Why is flask used in this Web Scraping project?"
   ]
  },
  {
   "cell_type": "code",
   "execution_count": 1,
   "id": "9527cc47-ad07-4124-9266-451ab12b5aa9",
   "metadata": {},
   "outputs": [
    {
     "data": {
      "text/plain": [
       "\"Flask is a lightweight framework to build websites. We'll use this to parse our collected data and display it as HTML in a new HTML file. The requests module allows us to send http requests to the website we want to scrape.\""
      ]
     },
     "execution_count": 1,
     "metadata": {},
     "output_type": "execute_result"
    }
   ],
   "source": [
    "\"\"\"Flask is a lightweight framework to build websites. We'll use this to parse our collected data and display it as HTML in a new HTML file. The requests module allows us to send http requests to the website we want to scrape.\"\"\""
   ]
  },
  {
   "cell_type": "code",
   "execution_count": null,
   "id": "c8f838ee-50fb-406e-8f68-791d23e8ace7",
   "metadata": {},
   "outputs": [],
   "source": [
    "#Q5. Write the names of AWS services used in this project. Also, explain the use of each service."
   ]
  },
  {
   "cell_type": "code",
   "execution_count": 2,
   "id": "b0b9a499-2ddd-45b1-9fc2-1ffa573b3ec5",
   "metadata": {},
   "outputs": [
    {
     "data": {
      "text/plain": [
       "' CodePipeline allows you to integrate third-party developer tools, like GitHub or Jenkins, into any stage of your release process with one click. You can use third-party tools for source control, build, test, or deployment.'"
      ]
     },
     "execution_count": 2,
     "metadata": {},
     "output_type": "execute_result"
    }
   ],
   "source": [
    "#beanstalk:- it is connected to code pipeline\n",
    "\"\"\"stic Beanstalk is a service for deploying and scaling web applications and services. Upload your code and Elastic Beanstalk automatically handles the deployment—from capacity provisioning, load balancing, and auto scaling to application health monitoring.\n",
    "\n",
    "#code pipeline:- this is connected to github and in the other hand beanstalk\n",
    "\"\"\" CodePipeline allows you to integrate third-party developer tools, like GitHub or Jenkins, into any stage of your release process with one click. You can use third-party tools for source control, build, test, or deployment.\"\"\""
   ]
  },
  {
   "cell_type": "code",
   "execution_count": null,
   "id": "38de9976-58a8-40d5-9bc2-16538a26838e",
   "metadata": {},
   "outputs": [],
   "source": []
  }
 ],
 "metadata": {
  "kernelspec": {
   "display_name": "Python 3 (ipykernel)",
   "language": "python",
   "name": "python3"
  },
  "language_info": {
   "codemirror_mode": {
    "name": "ipython",
    "version": 3
   },
   "file_extension": ".py",
   "mimetype": "text/x-python",
   "name": "python",
   "nbconvert_exporter": "python",
   "pygments_lexer": "ipython3",
   "version": "3.10.8"
  }
 },
 "nbformat": 4,
 "nbformat_minor": 5
}
